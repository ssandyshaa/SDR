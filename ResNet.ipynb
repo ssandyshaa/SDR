{
 "cells": [
  {
   "cell_type": "markdown",
   "metadata": {},
   "source": [
    "# 10785 Project Experiments"
   ]
  },
  {
   "cell_type": "code",
   "execution_count": 1,
   "metadata": {},
   "outputs": [],
   "source": [
    "import os, time, random, copy, csv\n",
    "import numpy as np\n",
    "from PIL import Image\n",
    "\n",
    "import torch\n",
    "import torchvision\n",
    "import torch.nn as nn\n",
    "import torch.nn.functional as F\n",
    "from torch.utils.data import Dataset, DataLoader\n",
    "from sklearn.metrics import roc_auc_score\n",
    "import foolbox"
   ]
  },
  {
   "cell_type": "markdown",
   "metadata": {},
   "source": [
    "## Papernot's attack on resnet18 trained without SDR"
   ]
  },
  {
   "cell_type": "markdown",
   "metadata": {},
   "source": [
    "### 1. Setup ResNet18 "
   ]
  },
  {
   "cell_type": "code",
   "execution_count": 2,
   "metadata": {},
   "outputs": [],
   "source": [
    "\n",
    "################################################\n",
    "# Dataset classes & functions\n",
    "################################################\n",
    "\n",
    "def parse_data(path):\n",
    "    count = 0\n",
    "    img_list = []\n",
    "    ID_list = []\n",
    "    for root, dirs, files in os.walk(path): \n",
    "        for file in files: # all files under the same class folder\n",
    "            if file.endswith('.jpg') and not file.startswith('._'):\n",
    "                fpath = os.path.join(root, file)\n",
    "                img_list.append(fpath)\n",
    "                ID_list.append(int(root.split('/')[-1]))\n",
    "        #         count += 1\n",
    "        #         if count >= 6000:\n",
    "        #             break\n",
    "        # if count >= 6000:\n",
    "        #     break\n",
    "    num_classes = len(set(ID_list))\n",
    "    print('{}\\t\\t{}\\n{}\\t\\t{}'.format('#Images', '#Labels', len(img_list), num_classes))\n",
    "    return img_list, ID_list, num_classes\n",
    "\n",
    "def parse_data_test(path):\n",
    "    count = 0\n",
    "    img_dict = dict()\n",
    "    for root, dirs, files in os.walk(path): \n",
    "        for file in files: # all files under the same class folder\n",
    "            if file.endswith('.jpg') and not file.startswith('._'):\n",
    "                fpath = os.path.join(root, file)\n",
    "                fidx = int(file.replace('.jpg', ''))\n",
    "                img_dict[fidx] = fpath\n",
    "    return img_dict\n",
    "\n",
    "class FaceDataset(Dataset):\n",
    "    def __init__(self, file_list, target_list, num_classes):\n",
    "        self.file_list = file_list\n",
    "        self.target_list = target_list\n",
    "        self.num_class = num_classes\n",
    "\n",
    "    def __len__(self):\n",
    "        return len(self.file_list)\n",
    "\n",
    "    def __getitem__(self, idx):\n",
    "        img = Image.open(self.file_list[idx])\n",
    "        img = torchvision.transforms.ToTensor()(img)\n",
    "        label = self.target_list[idx]\n",
    "        return img, label\n",
    "\n",
    "class AdvDataset(Dataset):\n",
    "    def __init__(self, adv_samples, target_list, num_classes): \n",
    "        self.adv_samples = adv_samples\n",
    "        self.target_list = target_list\n",
    "        self.num_class = num_classes\n",
    "\n",
    "    def __len__(self):\n",
    "        return adv_samples.shape[0]\n",
    "\n",
    "    def __getitem__(self, idx):\n",
    "        img = self.adv_samples[idx]\n",
    "        img = torch.from_numpy(img)\n",
    "        label = self.target_list[idx]\n",
    "        return img, label\n",
    "    \n",
    "class FaceDataset_test(Dataset):\n",
    "    def __init__(self, img_dict):\n",
    "        self.imgs = img_dict\n",
    "\n",
    "    def __len__(self):\n",
    "        return len(self.imgs)\n",
    "\n",
    "    def __getitem__(self, idx):\n",
    "        img = Image.open(self.imgs[idx])\n",
    "        img = torchvision.transforms.ToTensor()(img)\n",
    "        return img\n",
    "\n",
    "################################################\n",
    "# Network n loss classes & functions\n",
    "################################################\n",
    "\n",
    "def init_weights(module):\n",
    "    if type(module) == nn.Conv2d or type(module) == nn.Linear:\n",
    "        torch.nn.init.xavier_normal_(module.weight.data)\n",
    "\n",
    "class ResBlock(nn.Module):\n",
    "    def __init__(self, in_channels, out_channels):\n",
    "        super(ResBlock, self).__init__()\n",
    "        stride = 1\n",
    "        self.downsample = None\n",
    "        if in_channels != out_channels: # downsampling with stride = 2 required\n",
    "            stride = 2\n",
    "            down_layer = nn.Conv2d(in_channels = in_channels, out_channels = out_channels,\n",
    "                                   kernel_size = 2, stride = stride, bias = False)\n",
    "            down_bn = nn.BatchNorm2d(num_features = out_channels)\n",
    "            self.downsample = nn.Sequential(down_layer, down_bn)\n",
    "\n",
    "\n",
    "        self.block = nn.Sequential(nn.Conv2d(in_channels = in_channels, out_channels = out_channels,\n",
    "                                             kernel_size = 3, stride = stride, padding = 1, bias = False), # half the map size if need be\n",
    "                                   nn.BatchNorm2d(num_features = out_channels),\n",
    "                                   nn.ReLU(inplace = True),\n",
    "                                   nn.Conv2d(in_channels = out_channels, out_channels = out_channels,\n",
    "                                             kernel_size = 3, stride = 1, padding = 1, bias = False), # preserve map size\n",
    "                                   nn.BatchNorm2d(num_features = out_channels))\n",
    "\n",
    "        self.final_nonlinear = nn.ReLU(inplace = True)\n",
    "\n",
    "    def forward(self, x):\n",
    "        # I referenced the original pytorch resnet impelmentation here: https://pytorch.org/docs/stable/_modules/torchvision/models/resnet.html#resnet18\n",
    "        residual = x\n",
    "        out = self.block(x)\n",
    "        if self.downsample != None:\n",
    "            residual = self.downsample(residual)\n",
    "        out += residual\n",
    "        out = self.final_nonlinear(out)\n",
    "        return out\n",
    "\n",
    "class Face_CNN(nn.Module):\n",
    "    def __init__(self, num_in_channels, nums_hidden_channels, num_classes):\n",
    "        super(Face_CNN, self).__init__()\n",
    "        # Before residual components\n",
    "        in_layer = nn.Conv2d(in_channels = num_in_channels, \n",
    "                             out_channels = nums_hidden_channels[0],\n",
    "                             kernel_size = 3, stride = 1, padding = 1, bias = False)\n",
    "        in_bn = nn.BatchNorm2d(num_features = nums_hidden_channels[0])\n",
    "        in_nonlinear = nn.ReLU(inplace = True)\n",
    "        self.layers = [in_layer, in_bn, in_nonlinear]\n",
    "\n",
    "        # Residual components\n",
    "        for i in range(len(nums_hidden_channels) - 1):\n",
    "            in_channels = nums_hidden_channels[i]\n",
    "            out_channels = nums_hidden_channels[i+1]\n",
    "            self.layers.append(ResBlock(in_channels, out_channels))\n",
    "\n",
    "        # After residual components: can either go to an MLP clf or flatten as an embedding\n",
    "        self.layers = nn.Sequential(*self.layers)\n",
    "        self.avgpool = nn.AdaptiveAvgPool2d((1,1))\n",
    "        self.linear_clf = nn.Linear(nums_hidden_channels[-1], num_classes, bias = False)\n",
    "\n",
    "    def forward(self, x, evalMode = False):\n",
    "        output = x\n",
    "        output = self.layers(output) # conv layers\n",
    "        output = self.avgpool(output).view(output.size(0), -1) # embedding\n",
    "        clf_out = self.linear_clf(output)\n",
    "        return clf_out\n",
    "\n",
    "################################################\n",
    "# Training n testing classes & functions\n",
    "################################################\n",
    "\n",
    "def train(model, optimizer, criterion, train_loader, val_loader, num_epochs, task = 'Classification'):\n",
    "    print('[LOG] Start Training...')\n",
    "    \n",
    "    model.train()\n",
    "\n",
    "    for epoch in range(num_epochs):\n",
    "        curr_avg_loss = 0.0\n",
    "        avg_loss = 0.0\n",
    "\n",
    "        curr_t = time.time()\n",
    "\n",
    "        for batch_num, (data, tgts) in enumerate(train_loader):\n",
    "            if CUDA:\n",
    "                data = data.cuda()\n",
    "                tgts = tgts.cuda()\n",
    "\n",
    "            optimizer.zero_grad()\n",
    "            outputs = model(data)\n",
    "\n",
    "            loss = criterion(outputs, tgts.long())\n",
    "            loss.backward()\n",
    "            optimizer.step()\n",
    "\n",
    "            curr_avg_loss += loss.item()\n",
    "\n",
    "            btemp = 50\n",
    "\n",
    "            if batch_num % btemp == btemp - 1:\n",
    "                t_elapsed = (time.time() - curr_t)/batch_num\n",
    "                est_t_rm = t_elapsed * (6425 - batch_num) / 60\n",
    "                print('Epoch: {}\\tBatch: {}\\tAvg-Loss: {:.4f}\\tTime-Remaining: {:.3f}mins'.format(epoch+1, batch_num+1, curr_avg_loss/btemp, est_t_rm))\n",
    "                curr_avg_loss = 0.0\n",
    "\n",
    "            torch.cuda.empty_cache()\n",
    "            del data\n",
    "            del tgts\n",
    "            del loss\n",
    "\n",
    "        epoch_i = epoch + 4\n",
    "\n",
    "        model_path = 'Res18_0308_epoch_%i.pt' % epoch_i\n",
    "        save_model(model, model_path)\n",
    "        print('[LOG] Finish training the current epoch, model saved to %s' % model_path)\n",
    "\n",
    "        if task == 'Classification':\n",
    "            val_loss, val_acc = test_classify(model, val_loader, criterion)\n",
    "            train_loss, train_acc = test_classify(model, train_loader, criterion)\n",
    "            print('Train Loss: {:.4f}\\tTrain Accuracy: {:.4f}\\tVal Loss: {:.4f}\\tVal Accuracy: {:.4f}'.format(train_loss, train_acc, val_loss, val_acc))\n",
    "\n",
    "        elif task == 'Verification':\n",
    "            val_loss, val_acc = test_verify(model, val_loader, criterion)\n",
    "            train_loss, train_acc = test_verify(model, train_loader, criterion)\n",
    "            print('Train Loss: {:.4f}\\tTrain Accuracy: {:.4f}\\tVal Loss: {:.4f}\\tVal Accuracy: {:.4f}'.format(train_loss, train_acc, val_loss, val_acc))\n",
    "\n",
    "def save_model(model, path):\n",
    "    torch.save(model.state_dict(), path)"
   ]
  },
  {
   "cell_type": "code",
   "execution_count": 3,
   "metadata": {},
   "outputs": [
    {
     "name": "stdout",
     "output_type": "stream",
     "text": [
      "#Images\t\t#Labels\n",
      "4601\t\t2300\n",
      "[LOG] Setting up model...\n",
      "Model is loaded\n"
     ]
    }
   ],
   "source": [
    "#Specify the model\n",
    "batch_size = 128\n",
    "CUDA = torch.cuda.is_available()\n",
    "DEVICE = 'cuda' if CUDA else 'cpu'\n",
    "\n",
    "# print('[LOG] Loading training and validation data...')\n",
    "# img_list, label_list, num_classes = parse_data('hw2p2_check/train_data/medium')\n",
    "# train_dataset = FaceDataset(img_list, label_list, num_classes)\n",
    "# train_dataloader = DataLoader(train_dataset, batch_size = batch_size, shuffle = True, num_workers = 4, drop_last = False)\n",
    "\n",
    "img_list, label_list, num_classes = parse_data('hw2p2_check/validation_classification/medium')\n",
    "val_dataset = FaceDataset(img_list, label_list, num_classes)\n",
    "val_dataloader = DataLoader(val_dataset, batch_size = batch_size, num_workers = 4, drop_last = False)\n",
    "\n",
    "print('[LOG] Setting up model...')\n",
    "hiddens = [64, 64, 64, 128, 128, 256, 256, 512, 512]\n",
    "model = Face_CNN(3, hiddens, num_classes).to(DEVICE)\n",
    "# optimizer = torch.optim.Adam(model.parameters(), lr = 0.0001, weight_decay = 0.0001)\n",
    "# criterion = nn.CrossEntropyLoss()\n",
    "\n",
    "model_path = 'Res18_0308_epoch_4.pt'\n",
    "model.load_state_dict(torch.load(model_path))\n",
    "model.eval()\n",
    "print ('Model is loaded')"
   ]
  },
  {
   "cell_type": "markdown",
   "metadata": {},
   "source": [
    "### 2. Generate adversarial samples"
   ]
  },
  {
   "cell_type": "code",
   "execution_count": 4,
   "metadata": {},
   "outputs": [],
   "source": [
    "def Generate_Adversarial_Samples(model, loader):\n",
    "    model.eval()\n",
    "    if CUDA:\n",
    "        model = model.cuda()\n",
    "    fmodel = foolbox.models.PyTorchModel(model, bounds=(0, 1), num_classes=num_classes)\n",
    "    attack = foolbox.attacks.FGSM(fmodel)\n",
    "    for batch_num, (data, tgts) in enumerate(loader):\n",
    "        print (batch_num)\n",
    "        if CUDA:\n",
    "            data = data.cuda()\n",
    "            tgts = tgts.cuda()\n",
    "        for i in range(data.shape[0]):\n",
    "            w = np.asarray(data[i].view(3,32,32).cpu())\n",
    "            l = tgts[i].cpu().numpy()\n",
    "            if batch_num == 0 and i == 0:\n",
    "                adv_samples = attack(w, l).reshape(1,3,32,32)\n",
    "            else:\n",
    "                adv_samples = np.concatenate([adv_samples, attack(w, l).reshape(1,3,32,32)])\n",
    "    return adv_samples  "
   ]
  },
  {
   "cell_type": "code",
   "execution_count": null,
   "metadata": {
    "scrolled": true
   },
   "outputs": [],
   "source": [
    "#Generate Adv Samples\n",
    "adv_samples = Generate_Adversarial_Samples(model, val_dataloader)\n",
    "#Save the adversarial samples\n",
    "np.save('val_adv_samples.npy', adv_samples)\n",
    "print ('Done!')"
   ]
  },
  {
   "cell_type": "markdown",
   "metadata": {},
   "source": [
    "### Visualize the adversarial samples"
   ]
  },
  {
   "cell_type": "markdown",
   "metadata": {},
   "source": [
    "#### Original img"
   ]
  },
  {
   "cell_type": "code",
   "execution_count": 26,
   "metadata": {},
   "outputs": [
    {
     "data": {
      "image/png": "[encoded data removed]",
      "text/plain": [
       "<Figure size 432x288 with 1 Axes>"
      ]
     },
     "metadata": {},
     "output_type": "display_data"
    }
   ],
   "source": [
    "orig = np.uint8(val_dataset.__getitem__(0)[0].numpy()*255)\n",
    "orig_ = orig.transpose(1,2,0)\n",
    "plt.imshow(orig_)\n",
    "plt.show()"
   ]
  },
  {
   "cell_type": "markdown",
   "metadata": {},
   "source": [
    "#### Perturbed img"
   ]
  },
  {
   "cell_type": "code",
   "execution_count": 27,
   "metadata": {},
   "outputs": [
    {
     "data": {
      "image/png": "[encoded data removed]",
      "text/plain": [
       "<Figure size 432x288 with 1 Axes>"
      ]
     },
     "metadata": {},
     "output_type": "display_data"
    }
   ],
   "source": [
    "#matplotlib\n",
    "from matplotlib import pyplot as plt\n",
    "w = np.uint8(adv_samples[0]*255)\n",
    "w1 = w.transpose(1,2,0)\n",
    "plt.imshow(w1)\n",
    "plt.show()"
   ]
  },
  {
   "cell_type": "markdown",
   "metadata": {},
   "source": [
    "### 3. Test model performance under attack"
   ]
  },
  {
   "cell_type": "code",
   "execution_count": 5,
   "metadata": {},
   "outputs": [],
   "source": [
    "def test_classify(model, loader, criterion):\n",
    "    model.eval()\n",
    "    test_loss = 0.0\n",
    "    acc = 0\n",
    "    total = 0\n",
    "\n",
    "    for batch_num, (data, tgts) in enumerate(loader):\n",
    "        if CUDA:\n",
    "            data = data.cuda()\n",
    "            tgts = tgts.cuda()\n",
    "        outputs = model(data)\n",
    "\n",
    "        _, pred_labels = torch.max(F.softmax(outputs, dim = 1), 1)\n",
    "        pred_labels = pred_labels.view(-1)\n",
    "\n",
    "        loss = criterion(outputs, tgts.long())\n",
    "\n",
    "        acc += torch.sum(torch.eq(pred_labels, tgts)).item()\n",
    "        batch_size = len(tgts)\n",
    "        total += batch_size\n",
    "        test_loss += loss.item() * batch_size\n",
    "\n",
    "        del data\n",
    "        del tgts\n",
    "\n",
    "    model.train()\n",
    "    return test_loss*1.0/total, acc*1.0/total"
   ]
  },
  {
   "cell_type": "code",
   "execution_count": 30,
   "metadata": {},
   "outputs": [
    {
     "name": "stdout",
     "output_type": "stream",
     "text": [
      "Validation Accuracy on non-adversarial samples: 0.7370136926755053\n"
     ]
    }
   ],
   "source": [
    "criterion = nn.CrossEntropyLoss()\n",
    "val_loss, val_acc = test_classify(model, val_dataloader, criterion)\n",
    "#Validation accuracy on non-adversarial samples\n",
    "print ('Validation Accuracy on non-adversarial samples: '+ str(val_acc))"
   ]
  },
  {
   "cell_type": "code",
   "execution_count": 31,
   "metadata": {},
   "outputs": [
    {
     "name": "stdout",
     "output_type": "stream",
     "text": [
      "Validation Accuracy on non-adversarial samples: 0.0\n"
     ]
    }
   ],
   "source": [
    "#Create Adversarial Dataset\n",
    "adv_dataset = AdvDataset(adv_samples, label_list, num_classes)\n",
    "adv_dataloader = DataLoader(adv_dataset, batch_size = batch_size, num_workers = 4, drop_last = False)\n",
    "adv_loss, adv_acc = test_classify(model, adv_dataloader, criterion)\n",
    "#Validation accuracy on adversarial samples\n",
    "print ('Validation Accuracy on non-adversarial samples: '+ str(adv_acc))"
   ]
  },
  {
   "cell_type": "markdown",
   "metadata": {},
   "source": [
    "## Papernot's attack on resnet18 trained with SDR"
   ]
  },
  {
   "cell_type": "markdown",
   "metadata": {},
   "source": [
    "### 1. Load trained model"
   ]
  },
  {
   "cell_type": "code",
   "execution_count": 33,
   "metadata": {},
   "outputs": [
    {
     "name": "stdout",
     "output_type": "stream",
     "text": [
      "model loaded\n"
     ]
    }
   ],
   "source": [
    "DEVICE = 'cuda' if torch.cuda.is_available() else 'cpu'\n",
    "\n",
    "hiddens = [64, 64, 64, 128, 128, 256, 256, 512, 512]\n",
    "model = Face_CNN(3, hiddens, 2300)\n",
    "\n",
    "model_path = os.path.join('model_epoch_0_ckpt.pt')\n",
    "model.load_state_dict(torch.load(model_path, map_location = DEVICE))\n",
    "model = model.to(DEVICE)\n",
    "print('model loaded')"
   ]
  },
  {
   "cell_type": "code",
   "execution_count": 34,
   "metadata": {},
   "outputs": [
    {
     "name": "stdout",
     "output_type": "stream",
     "text": [
      "Validation Accuracy on non-adversarial samples: 0.72245164094762\n"
     ]
    }
   ],
   "source": [
    "criterion = nn.CrossEntropyLoss()\n",
    "val_loss, val_acc = test_classify(model, val_dataloader, criterion)\n",
    "#Validation accuracy on non-adversarial samples\n",
    "print ('Validation Accuracy on non-adversarial samples: '+ str(val_acc))"
   ]
  },
  {
   "cell_type": "markdown",
   "metadata": {},
   "source": [
    "#### Tested on adversarial samples generated using the non-sdr trained model (surrogate)"
   ]
  },
  {
   "cell_type": "code",
   "execution_count": 35,
   "metadata": {},
   "outputs": [
    {
     "name": "stdout",
     "output_type": "stream",
     "text": [
      "Validation Accuracy on non-adversarial samples: 0.6494240382525538\n"
     ]
    }
   ],
   "source": [
    "#Create Adversarial Dataset\n",
    "adv_dataset = AdvDataset(adv_samples, label_list, num_classes)\n",
    "adv_dataloader = DataLoader(adv_dataset, batch_size = batch_size, num_workers = 4, drop_last = False)\n",
    "adv_loss, adv_acc = test_classify(model, adv_dataloader, criterion)\n",
    "#Validation accuracy on adversarial samples\n",
    "print ('Validation Accuracy on non-adversarial samples: '+ str(adv_acc))"
   ]
  },
  {
   "cell_type": "markdown",
   "metadata": {},
   "source": [
    "#### Tested on adversarial samples generated using the sdr trained model"
   ]
  },
  {
   "cell_type": "code",
   "execution_count": null,
   "metadata": {
    "scrolled": true
   },
   "outputs": [],
   "source": [
    "#Generate Adv Samples\n",
    "adv_samples = Generate_Adversarial_Samples(model, val_dataloader)\n",
    "#Save the adversarial samples\n",
    "np.save('val_adv_samples_sdr.npy', adv_samples)\n",
    "print ('Done!')"
   ]
  },
  {
   "cell_type": "code",
   "execution_count": 37,
   "metadata": {},
   "outputs": [
    {
     "name": "stdout",
     "output_type": "stream",
     "text": [
      "Validation Accuracy on non-adversarial samples: 0.0\n"
     ]
    }
   ],
   "source": [
    "#Create Adversarial Dataset\n",
    "adv_dataset = AdvDataset(adv_samples, label_list, num_classes)\n",
    "adv_dataloader = DataLoader(adv_dataset, batch_size = batch_size, num_workers = 4, drop_last = False)\n",
    "adv_loss, adv_acc = test_classify(model, adv_dataloader, criterion)\n",
    "#Validation accuracy on adversarial samples\n",
    "print ('Validation Accuracy on adversarial samples: '+ str(adv_acc))"
   ]
  },
  {
   "cell_type": "markdown",
   "metadata": {},
   "source": [
    "### 2. Another trained model with higher validation accuracy"
   ]
  },
  {
   "cell_type": "code",
   "execution_count": 6,
   "metadata": {},
   "outputs": [
    {
     "name": "stdout",
     "output_type": "stream",
     "text": [
      "model loaded\n"
     ]
    }
   ],
   "source": [
    "DEVICE = 'cuda' if torch.cuda.is_available() else 'cpu'\n",
    "\n",
    "hiddens = [64, 64, 64, 128, 128, 256, 256, 512, 512]\n",
    "model1 = Face_CNN(3, hiddens, 2300)\n",
    "\n",
    "model_path1 = os.path.join('model_epoch_14_ckpt.pt')\n",
    "model1.load_state_dict(torch.load(model_path1, map_location = DEVICE))\n",
    "model1 = model1.to(DEVICE)\n",
    "print('model loaded')"
   ]
  },
  {
   "cell_type": "code",
   "execution_count": 7,
   "metadata": {},
   "outputs": [
    {
     "name": "stdout",
     "output_type": "stream",
     "text": [
      "Validation Accuracy on non-adversarial samples: 0.7346229080634644\n"
     ]
    }
   ],
   "source": [
    "criterion = nn.CrossEntropyLoss()\n",
    "val_loss, val_acc = test_classify(model1, val_dataloader, criterion)\n",
    "#Validation accuracy on non-adversarial samples\n",
    "print ('Validation Accuracy on non-adversarial samples: '+ str(val_acc))"
   ]
  },
  {
   "cell_type": "code",
   "execution_count": 8,
   "metadata": {},
   "outputs": [
    {
     "name": "stdout",
     "output_type": "stream",
     "text": [
      "0\n"
     ]
    },
    {
     "name": "stderr",
     "output_type": "stream",
     "text": [
      "/home/ubuntu/anaconda3/envs/pytorch_p36/lib/python3.6/site-packages/foolbox/attacks/base.py:129: UserWarning: Not running the attack because the original input is already misclassified and the adversarial thus has a distance of 0.\n",
      "  warnings.warn('Not running the attack because the original input'\n"
     ]
    },
    {
     "name": "stdout",
     "output_type": "stream",
     "text": [
      "1\n",
      "2\n",
      "3\n",
      "4\n",
      "5\n",
      "6\n",
      "7\n",
      "8\n",
      "9\n",
      "10\n",
      "11\n",
      "12\n",
      "13\n",
      "14\n",
      "15\n",
      "16\n",
      "17\n",
      "18\n",
      "19\n",
      "20\n",
      "21\n",
      "22\n",
      "23\n",
      "24\n",
      "25\n",
      "26\n",
      "27\n",
      "28\n",
      "29\n",
      "30\n",
      "31\n",
      "32\n",
      "33\n",
      "34\n",
      "35\n",
      "Done!\n"
     ]
    }
   ],
   "source": [
    "#Generate Adv Samples\n",
    "adv_samples1 = Generate_Adversarial_Samples(model1, val_dataloader)\n",
    "#Save the adversarial samples\n",
    "np.save('val_adv_samples_sdr1.npy', adv_samples1)\n",
    "print ('Done!')"
   ]
  },
  {
   "cell_type": "code",
   "execution_count": 13,
   "metadata": {},
   "outputs": [],
   "source": [
    "adv_samples = adv_samples1"
   ]
  },
  {
   "cell_type": "code",
   "execution_count": 16,
   "metadata": {},
   "outputs": [
    {
     "name": "stdout",
     "output_type": "stream",
     "text": [
      "Validation Accuracy on non-adversarial samples: 0.0\n"
     ]
    }
   ],
   "source": [
    "#Create Adversarial Dataset\n",
    "adv_dataset = AdvDataset(adv_samples, label_list, num_classes)\n",
    "adv_dataloader = DataLoader(adv_dataset, batch_size = batch_size, num_workers = 4, drop_last = False)\n",
    "adv_loss, adv_acc = test_classify(model1, adv_dataloader, criterion)\n",
    "#Validation accuracy on adversarial samples\n",
    "print ('Validation Accuracy on adversarial samples: '+ str(adv_acc))"
   ]
  },
  {
   "cell_type": "code",
   "execution_count": null,
   "metadata": {},
   "outputs": [],
   "source": []
  },
  {
   "cell_type": "code",
   "execution_count": null,
   "metadata": {},
   "outputs": [],
   "source": [
    "# model = model.cpu()\n",
    "# fmodel = foolbox.models.PyTorchModel(model, bounds=(0, 1), num_classes=num_classes, device='cpu')\n",
    "# attack = foolbox.attacks.FGSM(fmodel)\n",
    "# model(data[0].view(1,3,32,32))\n",
    "# w = np.asarray(data[0].view(3,32,32))\n",
    "# fmodel.predictions(w)\n",
    "# l = tgt[0].numpy()\n",
    "# e = attack(w,l)\n",
    "# print ('done')\n",
    "\n",
    "# x = np.zeros((1,2,3))\n",
    "# y = np.zeros((1,2,3))\n",
    "# w = np.concatenate([x,y])\n",
    "# w.shape"
   ]
  }
 ],
 "metadata": {
  "kernelspec": {
   "display_name": "Python 3",
   "language": "python",
   "name": "python3"
  },
  "language_info": {
   "codemirror_mode": {
    "name": "ipython",
    "version": 3
   },
   "file_extension": ".py",
   "mimetype": "text/x-python",
   "name": "python",
   "nbconvert_exporter": "python",
   "pygments_lexer": "ipython3",
   "version": "3.6.5"
  }
 },
 "nbformat": 4,
 "nbformat_minor": 2
}
