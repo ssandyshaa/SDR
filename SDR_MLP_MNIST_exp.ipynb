{
 "cells": [
  {
   "cell_type": "code",
   "execution_count": 1,
   "metadata": {},
   "outputs": [],
   "source": [
    "import os, time, random, copy, csv\n",
    "import numpy as np\n",
    "from PIL import Image\n",
    "import pickle\n",
    "\n",
    "import torch\n",
    "import torchvision\n",
    "import torch.nn as nn\n",
    "import torch.nn.functional as F\n",
    "from torch.utils.data import Dataset, DataLoader\n",
    "from sklearn.metrics import roc_auc_score\n",
    "import foolbox"
   ]
  },
  {
   "cell_type": "code",
   "execution_count": 2,
   "metadata": {},
   "outputs": [],
   "source": [
    "from Adversary import AdvDataset, Generate_Adversarial_Samples\n",
    "from train_sdr import *"
   ]
  },
  {
   "cell_type": "code",
   "execution_count": 3,
   "metadata": {},
   "outputs": [],
   "source": [
    "from data_helpers import *\n",
    "from general_helpers import *"
   ]
  },
  {
   "cell_type": "markdown",
   "metadata": {},
   "source": [
    "# MINIST + 3-layer MLP + SDR (update std w/ gradient)"
   ]
  },
  {
   "cell_type": "markdown",
   "metadata": {},
   "source": [
    "### Model"
   ]
  },
  {
   "cell_type": "code",
   "execution_count": 4,
   "metadata": {},
   "outputs": [
    {
     "name": "stdout",
     "output_type": "stream",
     "text": [
      "Model is loaded\n",
      "\n",
      "Testing model on regular images...\n",
      "Running each sample on the stochastic model for 10 times.\n",
      "Classification accuracy 95.300\n"
     ]
    }
   ],
   "source": [
    "hiddens = [28*28, 100, 100, 100]\n",
    "num_classes = 10\n",
    "model_sdr_gradient_update = SDR_MLP(hiddens, num_classes)\n",
    "\n",
    "model_path = os.path.join('saved_models', 'together', 'model_epoch_15_ckpt_test.pt')\n",
    "model_sdr_gradient_update.load_state_dict(torch.load(model_path))\n",
    "model_sdr_gradient_update = model_sdr_gradient_update.cuda()\n",
    "print ('Model is loaded\\n')\n",
    "\n",
    "print('Testing model on regular images...')\n",
    "\n",
    "trainset, testset, splited = split_MNIST(train_val_split=True, save_path=None)\n",
    "_, val_loader, _ = load_MNIST(64, trainset, testset, splited, 0)\n",
    "\n",
    "model_sdr_gradient_update.eval()\n",
    "_ = validate_stochastic(val_loader, model_sdr_gradient_update, nn.CrossEntropyLoss().cuda())# approx 1% increase\n"
   ]
  },
  {
   "cell_type": "markdown",
   "metadata": {},
   "source": [
    "### Use model gradient to generate adversarial samples (FGSM)"
   ]
  },
  {
   "cell_type": "code",
   "execution_count": null,
   "metadata": {},
   "outputs": [
    {
     "name": "stdout",
     "output_type": "stream",
     "text": [
      "0\n"
     ]
    },
    {
     "name": "stderr",
     "output_type": "stream",
     "text": [
      "/home/ubuntu/anaconda3/envs/pytorch_p36/lib/python3.6/site-packages/foolbox/attacks/base.py:148: UserWarning: LocalSearchAttack did not find an adversarial, maybe the model or the criterion is not supported by this attack.\n",
      "  ' attack.'.format(self.name()))\n",
      "/home/ubuntu/anaconda3/envs/pytorch_p36/lib/python3.6/site-packages/foolbox/attacks/base.py:129: UserWarning: Not running the attack because the original input is already misclassified and the adversarial thus has a distance of 0.\n",
      "  warnings.warn('Not running the attack because the original input'\n"
     ]
    },
    {
     "name": "stdout",
     "output_type": "stream",
     "text": [
      "15\n"
     ]
    }
   ],
   "source": [
    "# Run this to generate new samples\n",
    "method = 'LocalSearch'\n",
    "adv_samples, adv_tgts = Generate_Adversarial_Samples(model_sdr_gradient_update, val_loader, num_classes, method) #Generate Adv Samples\n",
    "np.save('adv_samples/val_adv_samples_MINIST_{}.npy'.format(method), adv_samples) #Save the adversarial samples\n",
    "np.save('adv_samples/val_adv_targets_MINIST_{}.npy'.format(method), adv_tgts) \n",
    "print ('Done!')\n"
   ]
  },
  {
   "cell_type": "code",
   "execution_count": null,
   "metadata": {},
   "outputs": [],
   "source": [
    "# Run this if samples have been generated before\n",
    "adv_samples_gradient = np.load('adv_samples/val_adv_samples_MINIST_LocalSearch.npy')\n",
    "adv_tgts_gradient = np.load('adv_samples/val_adv_targets_MINIST_LocalSearch.npy')\n",
    "print(len(adv_tgts_gradient))"
   ]
  },
  {
   "cell_type": "code",
   "execution_count": null,
   "metadata": {},
   "outputs": [],
   "source": [
    "len(val_loader.dataset)"
   ]
  },
  {
   "cell_type": "markdown",
   "metadata": {},
   "source": [
    "### Test model on adversarial samples"
   ]
  },
  {
   "cell_type": "code",
   "execution_count": null,
   "metadata": {},
   "outputs": [],
   "source": [
    "adv_dataset_gradient = AdvDataset(adv_samples_gradient, adv_tgts_gradient, 10)\n",
    "adv_dataloader_gradient = DataLoader(adv_dataset_gradient, batch_size = 64, num_workers = 4, drop_last = False)\n",
    "# _ = validate_regular(adv_dataloader_gradient, model_sdr_gradient_update, nn.CrossEntropyLoss().cuda()) # regular ~ 85%\n",
    "for x in [1,2,5,10]:\n",
    "    _ = validate_stochastic(adv_dataloader_gradient, model_sdr_gradient_update, nn.CrossEntropyLoss().cuda(), x)\n",
    "# single inference (= regular): 85.518\n",
    "# num_inferences = 2: 90.514\n",
    "# num_inferences = 5: 93.932 \n",
    "# num_inferences = 10: 94.923\n"
   ]
  },
  {
   "cell_type": "markdown",
   "metadata": {},
   "source": [
    "### Normal vs. Adversarial: example"
   ]
  },
  {
   "cell_type": "code",
   "execution_count": 11,
   "metadata": {},
   "outputs": [
    {
     "data": {
      "image/png": "[encoded data removed]",
      "text/plain": [
       "<Figure size 432x288 with 1 Axes>"
      ]
     },
     "metadata": {},
     "output_type": "display_data"
    }
   ],
   "source": [
    "from matplotlib import pyplot as plt\n",
    "transform = transforms.Compose([transforms.ToTensor(), transforms.Normalize((0.5, 0.5, 0.5), (0.5, 0.5, 0.5))])\n",
    "valset = datasets.MNIST(root='./data', train=False, download=True, transform=transform)\n",
    "w_original = np.uint8(valset.__getitem__(0)[0]*255)[0]\n",
    "plt.imshow(w_original, cmap='gray', vmin=0, vmax=255)\n",
    "plt.show()"
   ]
  },
  {
   "cell_type": "code",
   "execution_count": 21,
   "metadata": {},
   "outputs": [
    {
     "data": {
      "text/plain": [
       "<matplotlib.image.AxesImage at 0x7f41cecebcc0>"
      ]
     },
     "execution_count": 21,
     "metadata": {},
     "output_type": "execute_result"
    },
    {
     "data": {
      "image/png": "[encoded data removed]",
      "text/plain": [
       "<Figure size 432x288 with 1 Axes>"
      ]
     },
     "metadata": {},
     "output_type": "display_data"
    }
   ],
   "source": [
    "w = np.uint8(adv_samples[6]*255)[0]\n",
    "plt.imshow(w, cmap='gray', vmin=0, vmax=255)"
   ]
  },
  {
   "cell_type": "code",
   "execution_count": 16,
   "metadata": {},
   "outputs": [
    {
     "data": {
      "text/plain": [
       "<matplotlib.image.AxesImage at 0x7f41ceeb6e80>"
      ]
     },
     "execution_count": 16,
     "metadata": {},
     "output_type": "execute_result"
    },
    {
     "data": {
      "image/png": "[encoded data removed]",
      "text/plain": [
       "<Figure size 432x288 with 1 Axes>"
      ]
     },
     "metadata": {},
     "output_type": "display_data"
    }
   ],
   "source": [
    "w = np.uint8(val_loader.dataset[1][0]*255)[0]\n",
    "plt.imshow(w, cmap='gray', vmin=0, vmax=255)"
   ]
  },
  {
   "cell_type": "markdown",
   "metadata": {},
   "source": [
    "# MINIST + 3-layer MLP - SDR (non-stochastic)"
   ]
  },
  {
   "cell_type": "markdown",
   "metadata": {},
   "source": [
    "### Model"
   ]
  },
  {
   "cell_type": "code",
   "execution_count": null,
   "metadata": {},
   "outputs": [],
   "source": [
    "hiddens = [28*28, 100, 100, 100]\n",
    "num_classes = 10\n",
    "model_regular = MLP(hiddens, num_classes)\n",
    "\n",
    "model_path = os.path.join('saved_models', 'together', 'model_epoch_15_ckpt_test_regular.pt')\n",
    "model_regular.load_state_dict(torch.load(model_path))\n",
    "model_regular = model_regular.cuda()\n",
    "print ('Model is loaded')\n",
    "\n",
    "model_regular.eval()\n",
    "_ = validate_regular(test_loader, model_regular, nn.CrossEntropyLoss().cuda())"
   ]
  },
  {
   "cell_type": "markdown",
   "metadata": {},
   "source": [
    "### Use model gradient to generate adversarial samples (FGSM)"
   ]
  },
  {
   "cell_type": "code",
   "execution_count": null,
   "metadata": {},
   "outputs": [],
   "source": [
    "# adv_samples_regular, adv_tgts_regular = Generate_Adversarial_Samples(model_regular, test_loader) #Generate Adv Samples\n",
    "# np.save('val_adv_samples_MINIST_regular.npy', adv_samples_regular) #Save the adversarial samples\n",
    "# np.save('val_adv_targets_MINIST_regular.npy', adv_tgts_regular) \n",
    "# print ('Done!')"
   ]
  },
  {
   "cell_type": "code",
   "execution_count": null,
   "metadata": {},
   "outputs": [],
   "source": [
    "# Run this if samples have been generated before\n",
    "adv_samples_regular = np.load('val_adv_samples_MINIST_regular.npy')\n",
    "adv_tgts_regular = np.load('val_adv_targets_MINIST_regular.npy')\n",
    "print(len(adv_samples_regular))"
   ]
  },
  {
   "cell_type": "markdown",
   "metadata": {},
   "source": [
    "### Test model on adversarial samples"
   ]
  },
  {
   "cell_type": "code",
   "execution_count": null,
   "metadata": {},
   "outputs": [],
   "source": [
    "adv_dataset_regular = AdvDataset(adv_samples_regular, adv_tgts_regular, 10)\n",
    "adv_dataloader_regular = DataLoader(adv_dataset_regular, batch_size = 64, num_workers = 4, drop_last = False)\n",
    "_ = validate(adv_dataloader_regular, model_regular, nn.CrossEntropyLoss().cuda(), 0, 'cuda', 'MINIST')"
   ]
  },
  {
   "cell_type": "markdown",
   "metadata": {},
   "source": [
    "### Normal vs. Adversarial: example"
   ]
  },
  {
   "cell_type": "code",
   "execution_count": null,
   "metadata": {},
   "outputs": [],
   "source": [
    "w = np.uint8(adv_samples_regular[0]*255)[0]\n",
    "plt.imshow(w, cmap='gray', vmin=0, vmax=255)"
   ]
  },
  {
   "cell_type": "markdown",
   "metadata": {},
   "source": [
    "# MINIST + 3-layer MLP + SDR (decay std)"
   ]
  },
  {
   "cell_type": "markdown",
   "metadata": {},
   "source": [
    "### Model"
   ]
  },
  {
   "cell_type": "code",
   "execution_count": null,
   "metadata": {},
   "outputs": [],
   "source": [
    "hiddens = [28*28, 100, 100, 100]\n",
    "num_classes = 10\n",
    "model_sdr_decay_update = MLP(hiddens, num_classes)\n",
    "\n",
    "model_path = os.path.join('saved_models', 'weight', 'model_epoch_15_ckpt.pt')\n",
    "model_sdr_decay_update.load_state_dict(torch.load(model_path))\n",
    "model_sdr_decay_update = model_sdr_decay_update.cuda()\n",
    "print ('Model is loaded')\n",
    "\n",
    "model_sdr_decay_update.eval()\n",
    "stds = np.load(os.path.join('saved_models', 'std','std_epoch_15_ckpt.npy'))\n",
    "_ = validate_decay(test_loader, model_sdr_decay_update, nn.CrossEntropyLoss().cuda(), stds, 1)\n",
    "# num_inference = 1: 97.640\n",
    "# num_inference = 2: 97.650\n",
    "# num_inference = 5: 97.630\n",
    "# num_inference = 10: 97.630"
   ]
  },
  {
   "cell_type": "markdown",
   "metadata": {},
   "source": [
    "### Use model gradient to generate adversarial samples (FGSM)"
   ]
  },
  {
   "cell_type": "code",
   "execution_count": null,
   "metadata": {},
   "outputs": [],
   "source": [
    "adv_samples_decay, adv_tgts_decay = Generate_Adversarial_Samples(model_sdr_decay_update, test_loader) #Generate Adv Samples\n",
    "np.save('val_adv_samples_MINIST_decay.npy', adv_samples_decay) #Save the adversarial samples\n",
    "np.save('val_adv_targets_MINIST_decay.npy', adv_tgts_decay) \n",
    "print ('Done!')"
   ]
  },
  {
   "cell_type": "code",
   "execution_count": null,
   "metadata": {},
   "outputs": [],
   "source": [
    "adv_samples_decay = np.load('val_adv_samples_MINIST_decay.npy')\n",
    "adv_tgts_decay = np.load('val_adv_targets_MINIST_decay.npy')"
   ]
  },
  {
   "cell_type": "code",
   "execution_count": null,
   "metadata": {},
   "outputs": [],
   "source": [
    "adv_dataset_decay = AdvDataset(adv_samples_decay, adv_tgts_decay, 10)\n",
    "adv_dataloader_decay = DataLoader(adv_dataset_decay, batch_size = 64, num_workers = 4, drop_last = False)\n",
    "_ = validate_decay(adv_dataloader_decay, model_sdr_decay_update, nn.CrossEntropyLoss().cuda(), stds, 10)\n",
    "# num_inference = 1: 4.508\n",
    "# num_inference = 2: 3.344\n",
    "# num_inference = 5: 2.219\n",
    "# num_inference = 10: 1.506"
   ]
  },
  {
   "cell_type": "markdown",
   "metadata": {},
   "source": [
    "### Normal vs. Adversarial: example"
   ]
  },
  {
   "cell_type": "code",
   "execution_count": null,
   "metadata": {},
   "outputs": [],
   "source": [
    "w = np.uint8(adv_samples_decay[0]*255)[0]\n",
    "plt.imshow(w, cmap='gray', vmin=0, vmax=255)"
   ]
  }
 ],
 "metadata": {
  "kernelspec": {
   "display_name": "Environment (conda_pytorch_p36)",
   "language": "python",
   "name": "conda_pytorch_p36"
  },
  "language_info": {
   "codemirror_mode": {
    "name": "ipython",
    "version": 3
   },
   "file_extension": ".py",
   "mimetype": "text/x-python",
   "name": "python",
   "nbconvert_exporter": "python",
   "pygments_lexer": "ipython3",
   "version": "3.6.5"
  }
 },
 "nbformat": 4,
 "nbformat_minor": 2
}
